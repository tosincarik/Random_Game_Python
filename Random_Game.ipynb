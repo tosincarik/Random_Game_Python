{
 "cells": [
  {
   "cell_type": "code",
   "execution_count": 72,
   "id": "bf4ea3dc",
   "metadata": {},
   "outputs": [],
   "source": [
    "import pandas as pd\n",
    "import numpy as np\n",
    "import matplotlib.pyplot as plt"
   ]
  },
  {
   "cell_type": "code",
   "execution_count": 196,
   "id": "974ebd89",
   "metadata": {},
   "outputs": [
    {
     "name": "stdout",
     "output_type": "stream",
     "text": [
      "Please type in your name:Tosin\n",
      "Welcome to the guessing game ! Tosin. You have 3 attempts!\n",
      "Select a random number between 1 - 11:9\n",
      "Your number is too low\n",
      "Select a random number between 1 - 11:10\n",
      "Your number is too low\n",
      "Select a random number between 1 - 11:2\n",
      "Your number is too low\n",
      "You did not guess the correct answer which is 11\n",
      "Do you want to continue playing?: Y or N? Press any key to continuee\n",
      "Select a random number between 1 - 11:2\n",
      "Your number is too low\n",
      "Select a random number between 1 - 11:9\n",
      "Your number is too low\n",
      "Select a random number between 1 - 11:10\n",
      "Your number is too low\n",
      "You did not guess the correct answer which is 11\n",
      "Do you want to continue playing?: Y or N? Press any key to continueN\n"
     ]
    }
   ],
   "source": [
    "#set a random number using the numpy library and ask the user for their name\n",
    "num = np.random.randint(1,12)\n",
    "name = input('Please type in your name:')\n",
    "\n",
    "\n",
    "#Print a welcome message with players name displaying\n",
    "print(f'Welcome to the guessing game ! {name}. You have 3 attempts!')\n",
    "\n",
    "#set a condition to run for three attempts and \n",
    "# ask user for choice number and set conditions for high or low numbers\n",
    "\n",
    "user_input='.'\n",
    "while user_input != 'N':\n",
    "    \n",
    "\n",
    "\n",
    "    guesses = 0\n",
    "    while guesses < 3:\n",
    "        sel= int(input('Select a random number between 1 - 11:'))   \n",
    "        guesses += 1\n",
    "        if sel < num:\n",
    "            print('Your number is too low')\n",
    "        if sel > num:\n",
    "                print('Your number is too high')\n",
    "        if sel== num:\n",
    "            break\n",
    "\n",
    "        # display a result of the user selection based off the number \n",
    "        # of correct and wrong answers and the nos of tries\n",
    "    if sel==num:\n",
    "                print(f'Yasssss! You got the correct answer as {num} in {guesses} tries!')\n",
    "    if sel!=num:\n",
    "                print(f'You did not guess the correct answer which is {num}')\n",
    "    user_input = input('Do you want to continue playing?: Y or N? Press any key to continue')\n",
    "    if user_input=='N':\n",
    "        break \n",
    "    "
   ]
  },
  {
   "cell_type": "code",
   "execution_count": null,
   "id": "b704f601",
   "metadata": {},
   "outputs": [],
   "source": []
  },
  {
   "cell_type": "code",
   "execution_count": null,
   "id": "a31c2885",
   "metadata": {},
   "outputs": [],
   "source": []
  },
  {
   "cell_type": "code",
   "execution_count": 1,
   "id": "c236703e",
   "metadata": {},
   "outputs": [],
   "source": [
    "##Second Guessing Game"
   ]
  },
  {
   "cell_type": "code",
   "execution_count": 2,
   "id": "40392579",
   "metadata": {},
   "outputs": [],
   "source": [
    "import numpy as np\n",
    "import pandas as pd\n",
    "import matplotlib.pyplot as plt"
   ]
  },
  {
   "cell_type": "code",
   "execution_count": 4,
   "id": "8471c8e2",
   "metadata": {},
   "outputs": [],
   "source": [
    "ar = np.array([12,23,45,30])"
   ]
  },
  {
   "cell_type": "code",
   "execution_count": 5,
   "id": "2e0dc48d",
   "metadata": {},
   "outputs": [
    {
     "data": {
      "text/plain": [
       "array([12, 23, 45, 30])"
      ]
     },
     "execution_count": 5,
     "metadata": {},
     "output_type": "execute_result"
    }
   ],
   "source": [
    "ar"
   ]
  },
  {
   "cell_type": "code",
   "execution_count": 63,
   "id": "d606f116",
   "metadata": {},
   "outputs": [
    {
     "name": "stdout",
     "output_type": "stream",
     "text": [
      "Please, kindly input your name:Tosin\n",
      "Welcome to the game Tosin! You have three attempts!\n",
      "Select your guess number between 1-99:1\n",
      "Wrong\n",
      "Select your guess number between 1-99:12\n",
      "Correct\n",
      "Select your guess number between 1-99:45\n",
      "Correct\n",
      "You got 2 answer(s) and 1 wrong answer(s) in 3 tries !\n"
     ]
    }
   ],
   "source": [
    "#random game\n",
    "\n",
    "ar = np.array([12,23,45,30])\n",
    "prompt = (input('Please, kindly input your name:'))\n",
    "\n",
    "print (f'Welcome to the game {prompt}! You have three attempts!')\n",
    "\n",
    "guess=0\n",
    "correct=0\n",
    "wrong=0\n",
    "\n",
    "while guess < 3:\n",
    "    guess +=1\n",
    "    choice = int(input('Select your guess number between 1-99:'))\n",
    "    choices.append(choice)\n",
    "    if choice in ar:\n",
    "        correct+=1\n",
    "        print('Correct')\n",
    "    if choice not in ar:\n",
    "        wrong+=1\n",
    "        print('Wrong')\n",
    "\n",
    "if choice in ar:\n",
    "    print(f'You got {correct} answer(s) and {wrong} wrong answer(s) in {guess} tries !')\n",
    "if choice not in ar:\n",
    "    print(f'You got {wrong} answer(s) wrong and {correct} correct answer(s)')"
   ]
  },
  {
   "cell_type": "code",
   "execution_count": null,
   "id": "d143c529",
   "metadata": {},
   "outputs": [],
   "source": [
    "correct"
   ]
  },
  {
   "cell_type": "code",
   "execution_count": null,
   "id": "905487d9",
   "metadata": {},
   "outputs": [],
   "source": [
    "wrong"
   ]
  },
  {
   "cell_type": "code",
   "execution_count": null,
   "id": "bc3a9771",
   "metadata": {},
   "outputs": [],
   "source": []
  }
 ],
 "metadata": {
  "kernelspec": {
   "display_name": "Python 3 (ipykernel)",
   "language": "python",
   "name": "python3"
  },
  "language_info": {
   "codemirror_mode": {
    "name": "ipython",
    "version": 3
   },
   "file_extension": ".py",
   "mimetype": "text/x-python",
   "name": "python",
   "nbconvert_exporter": "python",
   "pygments_lexer": "ipython3",
   "version": "3.9.12"
  }
 },
 "nbformat": 4,
 "nbformat_minor": 5
}
